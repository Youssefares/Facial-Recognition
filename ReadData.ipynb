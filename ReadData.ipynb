{
  "nbformat": 4,
  "nbformat_minor": 0,
  "metadata": {
    "colab": {
      "name": "ReadData.ipynb",
      "version": "0.3.2",
      "views": {},
      "default_view": {},
      "provenance": [],
      "collapsed_sections": []
    },
    "kernelspec": {
      "name": "python3",
      "display_name": "Python 3"
    }
  },
  "cells": [
    {
      "metadata": {
        "id": "6n-MC3ingxSd",
        "colab_type": "code",
        "colab": {
          "autoexec": {
            "startup": false,
            "wait_interval": 0
          },
          "output_extras": [
            {
              "item_id": 2
            }
          ],
          "base_uri": "https://localhost:8080/",
          "height": 833
        },
        "outputId": "8cc2aa51-915e-4882-ae5d-c05d5021ab11",
        "executionInfo": {
          "status": "ok",
          "timestamp": 1519483431208,
          "user_tz": -120,
          "elapsed": 4347,
          "user": {
            "displayName": "Mostafa Ali Mansour",
            "photoUrl": "//lh3.googleusercontent.com/-lFV59LU62z0/AAAAAAAAAAI/AAAAAAAAAbE/5v9sieGvTUc/s50-c-k-no/photo.jpg",
            "userId": "109104812413497782932"
          }
        }
      },
      "cell_type": "code",
      "source": [
        "# HTTP\n",
        "from requests import get\n",
        "\n",
        "# OS and IO\n",
        "from io import BytesIO\n",
        "import os\n",
        "import shutil\n",
        "import glob\n",
        "from pathlib import Path\n",
        "\n",
        "# Unzipping\n",
        "from zipfile import ZipFile\n",
        "\n",
        "# Actual thing\n",
        "import scipy\n",
        "import matplotlib.pyplot as plt\n",
        "\n",
        "# For sorting files\n",
        "from natsort import natsorted\n",
        "\n",
        "# Numpy\n",
        "import numpy as np\n",
        "\n",
        "request = get('http://www.cl.cam.ac.uk/Research/DTG/attarchive/pub/data/att_faces.zip')\n",
        "zip_file = ZipFile(BytesIO(request.content))\n",
        "files = zip_file.namelist()\n",
        "files = natsorted(files)\n",
        "zip_file.extractall()\n",
        "\n",
        "dir_path = os.getcwd()\n",
        "\n",
        "#pathlist = Path(dir_path).glob('**/*.pgm')\n",
        "#for path in pathlist:\n",
        " #   path_in_str = str(path)\n",
        "  #  print(path_in_str)\n",
        "\n",
        "# BUGGYYY\n",
        "#images = [path for path in pathlist]\n",
        "#images = sorted(images, key=lambda x: str(x))\n",
        "\n",
        "#print(images)\n",
        "\n",
        "# Reading the first file in the zip file:\n",
        "#zip_file.read(files[0])\n",
        "# sorted_files = sorted(files)\n",
        "\n",
        "# Because the matrix is at first empty, we append the first instance, afterwards we push the images vertically\n",
        "# The array is transposed because I checked its dimensions and they were 112X92\n",
        "flag = 0\n",
        "y = np.arange(40).reshape(40, 1)\n",
        "D = np.array([[]])\n",
        "for f in files:\n",
        "    if f.endswith(\".pgm\"):\n",
        "        arr = scipy.misc.imread(f)\n",
        "        arr = arr.T\n",
        "        if flag == 0:\n",
        "            D = np.append(D,arr.flatten())\n",
        "            flag = 1\n",
        "        else:\n",
        "            D = np.vstack((D, arr.flatten()))\n",
        "print(D.shape)\n",
        "print(D)\n"
      ],
      "execution_count": 122,
      "outputs": [
        {
          "output_type": "stream",
          "text": [
            "[[ 0]\n",
            " [ 1]\n",
            " [ 2]\n",
            " [ 3]\n",
            " [ 4]\n",
            " [ 5]\n",
            " [ 6]\n",
            " [ 7]\n",
            " [ 8]\n",
            " [ 9]\n",
            " [10]\n",
            " [11]\n",
            " [12]\n",
            " [13]\n",
            " [14]\n",
            " [15]\n",
            " [16]\n",
            " [17]\n",
            " [18]\n",
            " [19]\n",
            " [20]\n",
            " [21]\n",
            " [22]\n",
            " [23]\n",
            " [24]\n",
            " [25]\n",
            " [26]\n",
            " [27]\n",
            " [28]\n",
            " [29]\n",
            " [30]\n",
            " [31]\n",
            " [32]\n",
            " [33]\n",
            " [34]\n",
            " [35]\n",
            " [36]\n",
            " [37]\n",
            " [38]\n",
            " [39]]\n",
            "(400, 10304)\n",
            "[[ 48.  45.  45. ...  46.  47.  46.]\n",
            " [ 60.  58.  68. ...  33.  31.  34.]\n",
            " [ 39.  44.  59. ...  28.  27.  29.]\n",
            " ...\n",
            " [125. 121. 122. ...  43.  35.  40.]\n",
            " [119. 118. 120. ...  88.  92.  85.]\n",
            " [125. 124. 121. ...  35.  32.  34.]]\n"
          ],
          "name": "stdout"
        }
      ]
    }
  ]
}