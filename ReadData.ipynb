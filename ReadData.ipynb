{
  "nbformat": 4,
  "nbformat_minor": 0,
  "metadata": {
    "colab": {
      "name": "ReadData.ipynb",
      "version": "0.3.2",
      "views": {},
      "default_view": {},
      "provenance": [],
      "collapsed_sections": []
    },
    "kernelspec": {
      "name": "python3",
      "display_name": "Python 3"
    }
  },
  "cells": [
    {
      "metadata": {
        "id": "5wfue9Kf_SQQ",
        "colab_type": "code",
        "colab": {
          "autoexec": {
            "startup": false,
            "wait_interval": 0
          },
          "output_extras": [
            {
              "item_id": 1
            }
          ],
          "base_uri": "https://localhost:8080/",
          "height": 34
        },
        "outputId": "a1499e9b-3386-4c13-c43f-4946869c51f9",
        "executionInfo": {
          "status": "ok",
          "timestamp": 1519761042296,
          "user_tz": -120,
          "elapsed": 3578,
          "user": {
            "displayName": "Youssef Fares",
            "photoUrl": "https://lh3.googleusercontent.com/a/default-user=s128",
            "userId": "111441872788174936163"
          }
        }
      },
      "cell_type": "code",
      "source": [
        "!pip install natsort"
      ],
      "execution_count": 6,
      "outputs": [
        {
          "output_type": "stream",
          "text": [
            "Requirement already satisfied: natsort in /usr/local/lib/python3.6/dist-packages\r\n"
          ],
          "name": "stdout"
        }
      ]
    },
    {
      "metadata": {
        "id": "6n-MC3ingxSd",
        "colab_type": "code",
        "colab": {
          "autoexec": {
            "startup": false,
            "wait_interval": 0
          }
        }
      },
      "cell_type": "code",
      "source": [
        "# HTTP\n",
        "from requests import get\n",
        "\n",
        "# OS and IO\n",
        "from io import BytesIO\n",
        "import os\n",
        "import shutil\n",
        "import glob\n",
        "from pathlib import Path\n",
        "\n",
        "# Unzipping\n",
        "from zipfile import ZipFile\n",
        "\n",
        "# Science and shi*\n",
        "import scipy\n",
        "import matplotlib.pyplot as plt\n",
        "import numpy as np\n",
        "\n",
        "# For sorting files\n",
        "from natsort import natsorted\n",
        "\n",
        "# Read files in order\n",
        "request = get('http://www.cl.cam.ac.uk/Research/DTG/attarchive/pub/data/att_faces.zip')\n",
        "zip_file = ZipFile(BytesIO(request.content))\n",
        "files = zip_file.namelist()\n",
        "files = natsorted(files)\n",
        "zip_file.extractall()\n",
        "\n",
        "# Images to training and test data matrices:\n",
        "y = np.arange(40).reshape(40, 1)\n",
        "ytest = y[1::2, ::]\n",
        "ytraining = y[0::2, ::]\n",
        "\n",
        "D = np.array(np.empty([0, 10304]))\n",
        "for f in files:\n",
        "    if f.endswith(\".pgm\"):\n",
        "        arr = scipy.misc.imread(f)\n",
        "        # The array is transposed because I checked its dimensions and they were 112X92\n",
        "        arr = arr.T\n",
        "        D = np.vstack((D, arr.flatten()))\n",
        "Dtest = np.copy(D[1::2, ::])\n",
        "Dtraining = D[0::2, ::]\n",
        "\n",
        "\n",
        "# 200 training examples with 10304 feature/pixel\n",
        "assert Dtraining.shape == (200, 10304)\n",
        "\n",
        "# 200 test examples with 10304 feature/pixel\n",
        "assert Dtest.shape == (200, 10304)"
      ],
      "execution_count": 0,
      "outputs": []
    }
  ]
}