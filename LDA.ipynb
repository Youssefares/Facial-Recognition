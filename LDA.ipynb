{
  "nbformat": 4,
  "nbformat_minor": 0,
  "metadata": {
    "colab": {
      "name": "LDA.ipynb",
      "version": "0.3.2",
      "views": {},
      "default_view": {},
      "provenance": [],
      "collapsed_sections": []
    },
    "kernelspec": {
      "name": "python3",
      "display_name": "Python 3"
    }
  },
  "cells": [
    {
      "metadata": {
        "id": "86hV4PZs6hHT",
        "colab_type": "code",
        "colab": {
          "autoexec": {
            "startup": false,
            "wait_interval": 0
          },
          "output_extras": [
            {
              "item_id": 2
            }
          ],
          "base_uri": "https://localhost:8080/",
          "height": 85
        },
        "outputId": "b797f303-69ed-4357-9a32-06d85faa24f5",
        "executionInfo": {
          "status": "ok",
          "timestamp": 1519934925798,
          "user_tz": -120,
          "elapsed": 3562,
          "user": {
            "displayName": "Mostafa Ali Mansour",
            "photoUrl": "//lh3.googleusercontent.com/-lFV59LU62z0/AAAAAAAAAAI/AAAAAAAAAbE/5v9sieGvTUc/s50-c-k-no/photo.jpg",
            "userId": "109104812413497782932"
          }
        }
      },
      "cell_type": "code",
      "source": [
        "!pip install natsort"
      ],
      "execution_count": 3,
      "outputs": [
        {
          "output_type": "stream",
          "text": [
            "Collecting natsort\n",
            "  Downloading natsort-5.2.0-py2.py3-none-any.whl\n",
            "Installing collected packages: natsort\n",
            "Successfully installed natsort-5.2.0\n"
          ],
          "name": "stdout"
        }
      ]
    },
    {
      "metadata": {
        "id": "s2lh6dX5NYER",
        "colab_type": "code",
        "colab": {
          "autoexec": {
            "startup": false,
            "wait_interval": 0
          },
          "output_extras": [
            {
              "item_id": 1
            }
          ],
          "base_uri": "https://localhost:8080/",
          "height": 51
        },
        "outputId": "f252b501-dc13-4741-e9d7-f59befad8141",
        "executionInfo": {
          "status": "ok",
          "timestamp": 1519940271773,
          "user_tz": -120,
          "elapsed": 3798,
          "user": {
            "displayName": "Mostafa Ali Mansour",
            "photoUrl": "//lh3.googleusercontent.com/-lFV59LU62z0/AAAAAAAAAAI/AAAAAAAAAbE/5v9sieGvTUc/s50-c-k-no/photo.jpg",
            "userId": "109104812413497782932"
          }
        }
      },
      "cell_type": "code",
      "source": [
        "# HTTP\n",
        "from requests import get\n",
        "\n",
        "# OS and IO\n",
        "from io import BytesIO\n",
        "\n",
        "# Unzipping\n",
        "from zipfile import ZipFile\n",
        "\n",
        "# Science and shi*\n",
        "import scipy\n",
        "import matplotlib.pyplot as plt\n",
        "import numpy as np\n",
        "\n",
        "# For sorting files\n",
        "from natsort import natsorted\n",
        "\n",
        "# Read files in order\n",
        "request = get('http://www.cl.cam.ac.uk/Research/DTG/attarchive/pub/data/att_faces.zip')\n",
        "zip_file = ZipFile(BytesIO(request.content))\n",
        "files = zip_file.namelist()\n",
        "files = natsorted(files)\n",
        "zip_file.extractall()\n",
        "\n",
        "# Images to training and test data matrices:\n",
        "y = np.arange(1, 41, 1)\n",
        "y = np.repeat(y, 10).reshape(400, 1)\n",
        "ytest = y[1::2, ::]\n",
        "ytraining = y[0::2, ::]\n",
        "\n",
        "D = np.array(np.empty([0, 10304]))\n",
        "for f in files:\n",
        "    if f.endswith(\".pgm\"):\n",
        "        arr = scipy.misc.imread(f)\n",
        "        # The array is transposed because I checked its dimensions and they were 112X92\n",
        "        arr = arr.T\n",
        "        D = np.vstack((D, arr.flatten()))\n",
        "Dtest = D[1::2, ::]\n",
        "Dtraining = D[0::2, ::]\n",
        "\n",
        "\n",
        "# 200 training examples with 10304 feature/pixel\n",
        "assert Dtraining.shape == (200, 10304)\n",
        "\n",
        "# 200 test examples with 10304 feature/pixel\n",
        "assert Dtest.shape == (200, 10304)\n",
        "\n"
      ],
      "execution_count": 29,
      "outputs": [
        {
          "output_type": "stream",
          "text": [
            "[ 1  2  3  4  5  6  7  8  9 10 11 12 13 14 15 16 17 18 19 20 21 22 23 24\n",
            " 25 26 27 28 29 30 31 32 33 34 35 36 37 38 39 40]\n"
          ],
          "name": "stdout"
        }
      ]
    },
    {
      "metadata": {
        "id": "Dn2zYszYqQFl",
        "colab_type": "text"
      },
      "cell_type": "markdown",
      "source": [
        "**Sci-kit LDA learn on iris data**"
      ]
    },
    {
      "metadata": {
        "id": "nl_V7DKeGm9v",
        "colab_type": "code",
        "colab": {
          "autoexec": {
            "startup": false,
            "wait_interval": 0
          },
          "output_extras": [
            {
              "item_id": 1
            }
          ],
          "base_uri": "https://localhost:8080/",
          "height": 85
        },
        "outputId": "3d4ce3c4-fa20-4227-b2ee-b4c7f2b01def",
        "executionInfo": {
          "status": "ok",
          "timestamp": 1519934931695,
          "user_tz": -120,
          "elapsed": 1527,
          "user": {
            "displayName": "Mostafa Ali Mansour",
            "photoUrl": "//lh3.googleusercontent.com/-lFV59LU62z0/AAAAAAAAAAI/AAAAAAAAAbE/5v9sieGvTUc/s50-c-k-no/photo.jpg",
            "userId": "109104812413497782932"
          }
        }
      },
      "cell_type": "code",
      "source": [
        "from sklearn.discriminant_analysis import LinearDiscriminantAnalysis as LDA\n",
        "from sklearn import datasets\n",
        "iris = datasets.load_iris()\n",
        "X = iris.data\n",
        "Y = iris.target\n",
        "clf = LDA()\n",
        "clf.fit(X, Y)\n",
        "# eigen vectors\n",
        "clf.scalings_\n",
        "#np.unique(iris.target)\n"
      ],
      "execution_count": 5,
      "outputs": [
        {
          "output_type": "execute_result",
          "data": {
            "text/plain": [
              "array([[ 0.81926852,  0.03285975],\n",
              "       [ 1.5478732 ,  2.15471106],\n",
              "       [-2.18494056, -0.93024679],\n",
              "       [-2.85385002,  2.8060046 ]])"
            ]
          },
          "metadata": {
            "tags": []
          },
          "execution_count": 5
        }
      ]
    },
    {
      "metadata": {
        "id": "kKbGj7wKqURw",
        "colab_type": "text"
      },
      "cell_type": "markdown",
      "source": [
        "**LDA from scratch on iris data**"
      ]
    },
    {
      "metadata": {
        "id": "9u0Jiz0wPWuZ",
        "colab_type": "code",
        "colab": {
          "autoexec": {
            "startup": false,
            "wait_interval": 0
          },
          "output_extras": [
            {
              "item_id": 1
            }
          ],
          "base_uri": "https://localhost:8080/",
          "height": 85
        },
        "outputId": "b91e381f-31b5-4ca8-cc55-59f1104101d6",
        "executionInfo": {
          "status": "ok",
          "timestamp": 1519934932700,
          "user_tz": -120,
          "elapsed": 529,
          "user": {
            "displayName": "Mostafa Ali Mansour",
            "photoUrl": "//lh3.googleusercontent.com/-lFV59LU62z0/AAAAAAAAAAI/AAAAAAAAAbE/5v9sieGvTUc/s50-c-k-no/photo.jpg",
            "userId": "109104812413497782932"
          }
        }
      },
      "cell_type": "code",
      "source": [
        "Xtest = X[1::2, ::]\n",
        "Xtraining = X[0::2, ::]\n",
        "Ytest = Y[1::2]\n",
        "Ytraining = Y[0::2]\n",
        "iris_means = np.array(np.empty([0, 4]))\n",
        "for i in range(0, 150, 50):\n",
        "    user = X[i:i+50:, ::]\n",
        "    iris_mean = np.mean(user, axis=0)\n",
        "    iris_means = np.vstack((iris_means, iris_mean))\n",
        "iris_mean_sample = np.mean(X, axis=0)\n",
        "\n",
        "iris_n = iris_means.shape[0]\n",
        "overall_mean = np.mean(X, axis=0)\n",
        "iris_B = np.zeros((4,4))\n",
        "for i in range(0, 3): \n",
        "    overall_mean = overall_mean.reshape(4,1) \n",
        "    mean_vec = iris_means[i].reshape(4,1)\n",
        "    iris_B += 50 * (mean_vec - overall_mean).dot((mean_vec - overall_mean).T)\n",
        "    i += 1\n",
        "iris_Z = np.array(np.empty([0, 4]))\n",
        "j = 0\n",
        "for i in range(0, 150, 50):\n",
        "    user = X[i:i+50:, ::]\n",
        "    iris_Z = np.vstack((iris_Z, user-iris_means[j].T))\n",
        "    j += 1\n",
        "    \n",
        "iris_S = iris_Z.T.dot(iris_Z)\n",
        "iris_S_inverse = np.linalg.inv(iris_S)\n",
        "iris_S_inverse_B = iris_S_inverse.dot(iris_B)\n",
        "eigen_values, eigen_vectors = np.linalg.eig(iris_S_inverse_B)\n",
        "print(eigen_vectors)\n"
      ],
      "execution_count": 6,
      "outputs": [
        {
          "output_type": "stream",
          "text": [
            "[[ 0.20490976 -0.00898234  0.68226001 -0.142006  ]\n",
            " [ 0.38714331 -0.58899857 -0.44093159  0.38002784]\n",
            " [-0.54648218  0.25428655 -0.46521433  0.44439255]\n",
            " [-0.71378517 -0.76703217  0.35167633 -0.7987042 ]]\n"
          ],
          "name": "stdout"
        }
      ]
    },
    {
      "metadata": {
        "id": "kgzF5Yp2qYvy",
        "colab_type": "text"
      },
      "cell_type": "markdown",
      "source": [
        "**LDA**"
      ]
    },
    {
      "metadata": {
        "id": "n1hsWZeIBOcq",
        "colab_type": "code",
        "colab": {
          "autoexec": {
            "startup": false,
            "wait_interval": 0
          },
          "output_extras": [
            {
              "item_id": 1
            }
          ],
          "base_uri": "https://localhost:8080/",
          "height": 34
        },
        "outputId": "3b34ed27-7215-46fc-ea24-ad33424bedfe",
        "executionInfo": {
          "status": "ok",
          "timestamp": 1519935150961,
          "user_tz": -120,
          "elapsed": 217772,
          "user": {
            "displayName": "Mostafa Ali Mansour",
            "photoUrl": "//lh3.googleusercontent.com/-lFV59LU62z0/AAAAAAAAAAI/AAAAAAAAAbE/5v9sieGvTUc/s50-c-k-no/photo.jpg",
            "userId": "109104812413497782932"
          }
        }
      },
      "cell_type": "code",
      "source": [
        "means = np.array(np.empty([0, 10304]))\n",
        "for i in range(0, 200, 5):\n",
        "    user = Dtraining[i:i+5:, ::]\n",
        "    mean = np.mean(user, axis=0)\n",
        "    means = np.vstack((means, mean))\n",
        "    \n",
        "print(means.shape)\n",
        "n = means.shape[0]\n",
        "#Because python returns mean vector as row not column vector, therefore we reversed the equation\n",
        "overall_mean = np.mean(Dtraining, axis=0)\n",
        "B = np.zeros((10304, 10304))\n",
        "for i in range(0, n): \n",
        "    overall_mean = overall_mean.reshape(10304,1) \n",
        "    mean_vec = means[i].reshape(10304,1)\n",
        "    B += 5 * (mean_vec - overall_mean).dot((mean_vec - overall_mean).T)\n",
        "    i += 1\n",
        "Z = np.array(np.empty([0, 10304]))\n",
        "j = 0\n",
        "for i in range(0, 200, 5):\n",
        "    user = Dtraining[i:i+5:, ::]\n",
        "    Z = np.vstack((Z, user-means[j].T))\n",
        "    j += 1\n",
        "\n",
        "#This is S, we don't have to sum all Ss from 1 to 40, I tested that with an example here https://pastebin.com/TABBdB5C    \n",
        "S = Z.T.dot(Z)\n",
        "S_inverse = np.linalg.inv(S)\n",
        "S_inverse_B = S_inverse.dot(B)\n",
        "eigen_values, eigen_vectors = np.linalg.eig(S_inverse_B)\n"
      ],
      "execution_count": 7,
      "outputs": [
        {
          "output_type": "stream",
          "text": [
            "(40, 10304)\n"
          ],
          "name": "stdout"
        }
      ]
    },
    {
      "metadata": {
        "id": "NPvLvxItxZAp",
        "colab_type": "code",
        "colab": {
          "autoexec": {
            "startup": false,
            "wait_interval": 0
          }
        }
      },
      "cell_type": "code",
      "source": [
        "U = eigen_vectors[:,range(0,39)]\n",
        "assert U.shape == (10304, 39)\n",
        "project_trainning = Dtraining.dot(U)\n",
        "project_test = Dtest.dot(U)"
      ],
      "execution_count": 0,
      "outputs": []
    },
    {
      "metadata": {
        "id": "m77WPNrPbVZM",
        "colab_type": "text"
      },
      "cell_type": "markdown",
      "source": [
        "**Sci-kit learn KNN on iris data**"
      ]
    },
    {
      "metadata": {
        "id": "3f6KrTrPbaNj",
        "colab_type": "code",
        "colab": {
          "autoexec": {
            "startup": false,
            "wait_interval": 0
          },
          "output_extras": [
            {
              "item_id": 1
            },
            {
              "item_id": 2
            }
          ],
          "base_uri": "https://localhost:8080/",
          "height": 1008
        },
        "outputId": "32e434a7-8aed-4db3-f618-d39cbd278676",
        "executionInfo": {
          "status": "ok",
          "timestamp": 1519939567388,
          "user_tz": -120,
          "elapsed": 1555,
          "user": {
            "displayName": "Mostafa Ali Mansour",
            "photoUrl": "//lh3.googleusercontent.com/-lFV59LU62z0/AAAAAAAAAAI/AAAAAAAAAbE/5v9sieGvTUc/s50-c-k-no/photo.jpg",
            "userId": "109104812413497782932"
          }
        }
      },
      "cell_type": "code",
      "source": [
        "import matplotlib\n",
        "matplotlib.use('GTKAgg')\n",
        " \n",
        "import numpy as np\n",
        "import matplotlib.pyplot as plt\n",
        "from matplotlib.colors import ListedColormap\n",
        "from sklearn import neighbors, datasets\n",
        " \n",
        "n_neighbors = 6\n",
        " \n",
        "# import some data to play with\n",
        "iris = datasets.load_iris()\n",
        " \n",
        "# prepare data\n",
        "X = iris.data[:, :2]  \n",
        "y = iris.target\n",
        "h = .02 \n",
        " \n",
        "# Create color maps\n",
        "cmap_light = ListedColormap(['#FFAAAA', '#AAFFAA','#00AAFF'])\n",
        "cmap_bold = ListedColormap(['#FF0000', '#00FF00','#00AAFF'])\n",
        " \n",
        "# we create an instance of Neighbours Classifier and fit the data.\n",
        "clf = neighbors.KNeighborsClassifier(n_neighbors, weights='distance')\n",
        "clf.fit(X, y)\n",
        " \n",
        "# calculate min, max and limits\n",
        "x_min, x_max = X[:, 0].min() - 1, X[:, 0].max() + 1\n",
        "y_min, y_max = X[:, 1].min() - 1, X[:, 1].max() + 1\n",
        "xx, yy = np.meshgrid(np.arange(x_min, x_max, h),\n",
        "                     np.arange(y_min, y_max, h))\n",
        " \n",
        "# predict class using data and kNN classifier\n",
        "Z = clf.predict(np.c_[xx.ravel(), yy.ravel()])\n",
        " \n",
        "# Put the result into a color plot\n",
        "Z = Z.reshape(xx.shape)\n",
        "plt.figure()\n",
        "plt.pcolormesh(xx, yy, Z, cmap=cmap_light)\n",
        " \n",
        "# Plot also the training points\n",
        "plt.scatter(X[:, 0], X[:, 1], c=y, cmap=cmap_bold)\n",
        "plt.xlim(xx.min(), xx.max())\n",
        "plt.ylim(yy.min(), yy.max())\n",
        "plt.title(\"3-Class classification (k = %i)\" % (n_neighbors))\n",
        "plt.show()"
      ],
      "execution_count": 18,
      "outputs": [
        {
          "output_type": "stream",
          "text": [
            "/usr/local/lib/python3.6/dist-packages/ipykernel_launcher.py:2: UserWarning: \n",
            "This call to matplotlib.use() has no effect because the backend has already\n",
            "been chosen; matplotlib.use() must be called *before* pylab, matplotlib.pyplot,\n",
            "or matplotlib.backends is imported for the first time.\n",
            "\n",
            "The backend was *originally* set to 'module://ipykernel.pylab.backend_inline' by the following code:\n",
            "  File \"/usr/lib/python3.6/runpy.py\", line 193, in _run_module_as_main\n",
            "    \"__main__\", mod_spec)\n",
            "  File \"/usr/lib/python3.6/runpy.py\", line 85, in _run_code\n",
            "    exec(code, run_globals)\n",
            "  File \"/usr/local/lib/python3.6/dist-packages/ipykernel_launcher.py\", line 16, in <module>\n",
            "    app.launch_new_instance()\n",
            "  File \"/usr/local/lib/python3.6/dist-packages/traitlets/config/application.py\", line 657, in launch_instance\n",
            "    app.initialize(argv)\n",
            "  File \"<decorator-gen-121>\", line 2, in initialize\n",
            "  File \"/usr/local/lib/python3.6/dist-packages/traitlets/config/application.py\", line 87, in catch_config_error\n",
            "    return method(app, *args, **kwargs)\n",
            "  File \"/usr/local/lib/python3.6/dist-packages/ipykernel/kernelapp.py\", line 462, in initialize\n",
            "    self.init_gui_pylab()\n",
            "  File \"/usr/local/lib/python3.6/dist-packages/ipykernel/kernelapp.py\", line 403, in init_gui_pylab\n",
            "    InteractiveShellApp.init_gui_pylab(self)\n",
            "  File \"/usr/local/lib/python3.6/dist-packages/IPython/core/shellapp.py\", line 213, in init_gui_pylab\n",
            "    r = enable(key)\n",
            "  File \"/usr/local/lib/python3.6/dist-packages/IPython/core/interactiveshell.py\", line 2950, in enable_matplotlib\n",
            "    pt.activate_matplotlib(backend)\n",
            "  File \"/usr/local/lib/python3.6/dist-packages/IPython/core/pylabtools.py\", line 309, in activate_matplotlib\n",
            "    matplotlib.pyplot.switch_backend(backend)\n",
            "  File \"/usr/local/lib/python3.6/dist-packages/matplotlib/pyplot.py\", line 232, in switch_backend\n",
            "    matplotlib.use(newbackend, warn=False, force=True)\n",
            "  File \"/usr/local/lib/python3.6/dist-packages/matplotlib/__init__.py\", line 1305, in use\n",
            "    reload(sys.modules['matplotlib.backends'])\n",
            "  File \"/usr/lib/python3.6/importlib/__init__.py\", line 166, in reload\n",
            "    _bootstrap._exec(spec, module)\n",
            "  File \"/usr/local/lib/python3.6/dist-packages/matplotlib/backends/__init__.py\", line 14, in <module>\n",
            "    line for line in traceback.format_stack()\n",
            "\n",
            "\n",
            "  \n"
          ],
          "name": "stderr"
        },
        {
          "output_type": "display_data",
          "data": {
            "image/png": "[encoded data removed]",
            "text/plain": [
              "<matplotlib.figure.Figure at 0x7f76014515c0>"
            ]
          },
          "metadata": {
            "tags": []
          }
        }
      ]
    }
  ]
}