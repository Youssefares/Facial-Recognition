{
  "nbformat": 4,
  "nbformat_minor": 0,
  "metadata": {
    "colab": {
      "name": "LDA.ipynb",
      "version": "0.3.2",
      "views": {},
      "default_view": {},
      "provenance": [],
      "collapsed_sections": []
    },
    "kernelspec": {
      "name": "python3",
      "display_name": "Python 3"
    }
  },
  "cells": [
    {
      "metadata": {
        "id": "AvgRKpt9IXCZ",
        "colab_type": "code",
        "colab": {
          "autoexec": {
            "startup": false,
            "wait_interval": 0
          },
          "output_extras": [
            {}
          ],
          "base_uri": "https://localhost:8080/",
          "height": 34
        },
        "outputId": "51282e48-00c2-48e9-b4b3-7fc0cc902f5f",
        "executionInfo": {
          "status": "ok",
          "timestamp": 1519943070860,
          "user_tz": -120,
          "elapsed": 1036,
          "user": {
            "displayName": "Mostafa Ali Mansour",
            "photoUrl": "//lh3.googleusercontent.com/-lFV59LU62z0/AAAAAAAAAAI/AAAAAAAAAbE/5v9sieGvTUc/s50-c-k-no/photo.jpg",
            "userId": "109104812413497782932"
          }
        }
      },
      "cell_type": "code",
      "source": [
        "# importing necessary libraries\n",
        "from sklearn import datasets\n",
        "from sklearn.metrics import confusion_matrix\n",
        "from sklearn.model_selection import train_test_split\n",
        " \n",
        "# loading the iris dataset\n",
        "iris = datasets.load_iris()\n",
        " \n",
        "# X -> features, y -> label\n",
        "X = iris.data\n",
        "Y = iris.target\n",
        " \n",
        "# dividing X, y into train and test data\n",
        "X_train, X_test, Y_train, Y_test = train_test_split(X, Y, random_state = 0)\n",
        " \n",
        "# training a KNN classifier\n",
        "from sklearn.neighbors import KNeighborsClassifier\n",
        "knn = KNeighborsClassifier(n_neighbors = 1).fit(X_train, Y_train)\n",
        " \n",
        "# accuracy on X_test\n",
        "accuracy = knn.score(X_test, Y_test)\n",
        "print (accuracy)\n",
        " \n",
        "# creating a confusion matrix\n",
        "knn_predictions = knn.predict(X_test) \n",
        "cm = confusion_matrix(Y_test, knn_predictions)"
      ],
      "execution_count": 0,
      "outputs": [
        {
          "output_type": "stream",
          "text": [
            "0.9736842105263158\n"
          ],
          "name": "stdout"
        }
      ]
    },
    {
      "metadata": {
        "id": "86hV4PZs6hHT",
        "colab_type": "code",
        "colab": {
          "autoexec": {
            "startup": false,
            "wait_interval": 0
          },
          "output_extras": [
            {
              "item_id": 1
            }
          ],
          "base_uri": "https://localhost:8080/",
          "height": 34
        },
        "outputId": "00f0611a-e366-4f73-c0b6-74e82648f3d0",
        "executionInfo": {
          "status": "ok",
          "timestamp": 1519943082587,
          "user_tz": -120,
          "elapsed": 3351,
          "user": {
            "displayName": "Mostafa Ali Mansour",
            "photoUrl": "//lh3.googleusercontent.com/-lFV59LU62z0/AAAAAAAAAAI/AAAAAAAAAbE/5v9sieGvTUc/s50-c-k-no/photo.jpg",
            "userId": "109104812413497782932"
          }
        }
      },
      "cell_type": "code",
      "source": [
        "!pip install natsort"
      ],
      "execution_count": 41,
      "outputs": [
        {
          "output_type": "stream",
          "text": [
            "Requirement already satisfied: natsort in /usr/local/lib/python3.6/dist-packages\r\n"
          ],
          "name": "stdout"
        }
      ]
    },
    {
      "metadata": {
        "id": "s2lh6dX5NYER",
        "colab_type": "code",
        "colab": {
          "autoexec": {
            "startup": false,
            "wait_interval": 0
          }
        }
      },
      "cell_type": "code",
      "source": [
        "# HTTP\n",
        "from requests import get\n",
        "\n",
        "# OS and IO\n",
        "from io import BytesIO\n",
        "\n",
        "# Unzipping\n",
        "from zipfile import ZipFile\n",
        "\n",
        "# Science and shi*\n",
        "import scipy\n",
        "import matplotlib.pyplot as plt\n",
        "import numpy as np\n",
        "\n",
        "# For sorting files\n",
        "from natsort import natsorted\n",
        "\n",
        "# Read files in order\n",
        "request = get('http://www.cl.cam.ac.uk/Research/DTG/attarchive/pub/data/att_faces.zip')\n",
        "zip_file = ZipFile(BytesIO(request.content))\n",
        "files = zip_file.namelist()\n",
        "files = natsorted(files)\n",
        "zip_file.extractall()\n",
        "\n",
        "# Images to training and test data matrices:\n",
        "y = np.arange(1, 41, 1)\n",
        "y = np.repeat(y, 10).reshape(400, 1)\n",
        "ytest = y[1::2, ::]\n",
        "ytraining = y[0::2, ::]\n",
        "\n",
        "D = np.array(np.empty([0, 10304]))\n",
        "for f in files:\n",
        "    if f.endswith(\".pgm\"):\n",
        "        arr = scipy.misc.imread(f)\n",
        "        # The array is transposed because I checked its dimensions and they were 112X92\n",
        "        arr = arr.T\n",
        "        D = np.vstack((D, arr.flatten()))\n",
        "Dtest = D[1::2, ::]\n",
        "Dtraining = D[0::2, ::]\n",
        "\n",
        "\n",
        "# 200 training examples with 10304 feature/pixel\n",
        "assert Dtraining.shape == (200, 10304)\n",
        "\n",
        "# 200 test examples with 10304 feature/pixel\n",
        "assert Dtest.shape == (200, 10304)\n",
        "\n"
      ],
      "execution_count": 0,
      "outputs": []
    },
    {
      "metadata": {
        "id": "fcZjMJGUIWy0",
        "colab_type": "text"
      },
      "cell_type": "markdown",
      "source": [
        "**Sci-kit LDA learn on iris data**"
      ]
    },
    {
      "metadata": {
        "id": "qC4aWZTuIWn4",
        "colab_type": "code",
        "colab": {
          "autoexec": {
            "startup": false,
            "wait_interval": 0
          },
          "output_extras": [
            {}
          ],
          "base_uri": "https://localhost:8080/",
          "height": 85
        },
        "outputId": "b62fbe76-a260-4abb-b30a-a20ce9e4be47",
        "executionInfo": {
          "status": "ok",
          "timestamp": 1519943087396,
          "user_tz": -120,
          "elapsed": 754,
          "user": {
            "displayName": "Mostafa Ali Mansour",
            "photoUrl": "//lh3.googleusercontent.com/-lFV59LU62z0/AAAAAAAAAAI/AAAAAAAAAbE/5v9sieGvTUc/s50-c-k-no/photo.jpg",
            "userId": "109104812413497782932"
          }
        }
      },
      "cell_type": "code",
      "source": [
        "from sklearn.discriminant_analysis import LinearDiscriminantAnalysis as LDA\n",
        "from sklearn import datasets\n",
        "iris = datasets.load_iris()\n",
        "X = iris.data\n",
        "Y = iris.target\n",
        "clf = LDA()\n",
        "clf.fit(X, Y)\n",
        "# eigen vectors\n",
        "clf.scalings_\n",
        "#np.unique(iris.target)\n"
      ],
      "execution_count": 0,
      "outputs": [
        {
          "output_type": "execute_result",
          "data": {
            "text/plain": [
              "array([[ 0.81926852,  0.03285975],\n",
              "       [ 1.5478732 ,  2.15471106],\n",
              "       [-2.18494056, -0.93024679],\n",
              "       [-2.85385002,  2.8060046 ]])"
            ]
          },
          "metadata": {
            "tags": []
          },
          "execution_count": 43
        }
      ]
    },
    {
      "metadata": {
        "id": "kKbGj7wKqURw",
        "colab_type": "text"
      },
      "cell_type": "markdown",
      "source": [
        "**LDA from scratch on iris data**"
      ]
    },
    {
      "metadata": {
        "id": "9u0Jiz0wPWuZ",
        "colab_type": "code",
        "colab": {
          "autoexec": {
            "startup": false,
            "wait_interval": 0
          },
          "output_extras": [
            {
              "item_id": 1
            }
          ],
          "base_uri": "https://localhost:8080/",
          "height": 85
        },
        "outputId": "8e5ab8df-a14d-4e15-ba16-62c32cdc6b5b",
        "executionInfo": {
          "status": "ok",
          "timestamp": 1519943088427,
          "user_tz": -120,
          "elapsed": 884,
          "user": {
            "displayName": "Mostafa Ali Mansour",
            "photoUrl": "//lh3.googleusercontent.com/-lFV59LU62z0/AAAAAAAAAAI/AAAAAAAAAbE/5v9sieGvTUc/s50-c-k-no/photo.jpg",
            "userId": "109104812413497782932"
          }
        }
      },
      "cell_type": "code",
      "source": [
        "Xtest = X[1::2, ::]\n",
        "Xtraining = X[0::2, ::]\n",
        "Ytest = Y[1::2]\n",
        "Ytraining = Y[0::2]\n",
        "iris_means = np.array(np.empty([0, 4]))\n",
        "for i in range(0, 150, 50):\n",
        "    user = X[i:i+50:, ::]\n",
        "    iris_mean = np.mean(user, axis=0)\n",
        "    iris_means = np.vstack((iris_means, iris_mean))\n",
        "iris_mean_sample = np.mean(X, axis=0)\n",
        "\n",
        "iris_n = iris_means.shape[0]\n",
        "overall_mean = np.mean(X, axis=0)\n",
        "iris_B = np.zeros((4,4))\n",
        "for i in range(0, 3): \n",
        "    overall_mean = overall_mean.reshape(4,1) \n",
        "    mean_vec = iris_means[i].reshape(4,1)\n",
        "    iris_B += 50 * (mean_vec - overall_mean).dot((mean_vec - overall_mean).T)\n",
        "    i += 1\n",
        "iris_Z = np.array(np.empty([0, 4]))\n",
        "j = 0\n",
        "for i in range(0, 150, 50):\n",
        "    user = X[i:i+50:, ::]\n",
        "    iris_Z = np.vstack((iris_Z, user-iris_means[j].T))\n",
        "    j += 1\n",
        "    \n",
        "iris_S = iris_Z.T.dot(iris_Z)\n",
        "iris_S_inverse = np.linalg.inv(iris_S)\n",
        "iris_S_inverse_B = iris_S_inverse.dot(iris_B)\n",
        "eigen_values, eigen_vectors = np.linalg.eig(iris_S_inverse_B)\n",
        "print(eigen_vectors)\n"
      ],
      "execution_count": 44,
      "outputs": [
        {
          "output_type": "stream",
          "text": [
            "[[ 0.20490976 -0.00898234  0.68226001 -0.142006  ]\n",
            " [ 0.38714331 -0.58899857 -0.44093159  0.38002784]\n",
            " [-0.54648218  0.25428655 -0.46521433  0.44439255]\n",
            " [-0.71378517 -0.76703217  0.35167633 -0.7987042 ]]\n"
          ],
          "name": "stdout"
        }
      ]
    },
    {
      "metadata": {
        "id": "kgzF5Yp2qYvy",
        "colab_type": "text"
      },
      "cell_type": "markdown",
      "source": [
        "**LDA**"
      ]
    },
    {
      "metadata": {
        "id": "n1hsWZeIBOcq",
        "colab_type": "code",
        "colab": {
          "autoexec": {
            "startup": false,
            "wait_interval": 0
          },
          "output_extras": [
            {
              "item_id": 1
            }
          ],
          "base_uri": "https://localhost:8080/",
          "height": 34
        },
        "outputId": "c935c731-73a4-4421-f34a-25aaf774176a",
        "executionInfo": {
          "status": "ok",
          "timestamp": 1519944817515,
          "user_tz": -120,
          "elapsed": 1728919,
          "user": {
            "displayName": "Mostafa Ali Mansour",
            "photoUrl": "//lh3.googleusercontent.com/-lFV59LU62z0/AAAAAAAAAAI/AAAAAAAAAbE/5v9sieGvTUc/s50-c-k-no/photo.jpg",
            "userId": "109104812413497782932"
          }
        }
      },
      "cell_type": "code",
      "source": [
        "means = np.array(np.empty([0, 10304]))\n",
        "for i in range(0, 200, 5):\n",
        "    user = Dtraining[i:i+5:, ::]\n",
        "    mean = np.mean(user, axis=0)\n",
        "    means = np.vstack((means, mean))\n",
        "    \n",
        "print(means.shape)\n",
        "n = means.shape[0]\n",
        "#Because python returns mean vector as row not column vector, therefore we reversed the equation\n",
        "overall_mean = np.mean(Dtraining, axis=0)\n",
        "B = np.zeros((10304, 10304))\n",
        "for i in range(0, n): \n",
        "    overall_mean = overall_mean.reshape(10304,1) \n",
        "    mean_vec = means[i].reshape(10304,1)\n",
        "    B += 5 * (mean_vec - overall_mean).dot((mean_vec - overall_mean).T)\n",
        "    i += 1\n",
        "Z = np.array(np.empty([0, 10304]))\n",
        "j = 0\n",
        "for i in range(0, 200, 5):\n",
        "    user = Dtraining[i:i+5:, ::]\n",
        "    Z = np.vstack((Z, user-means[j].T))\n",
        "    j += 1\n",
        "\n",
        "#This is S, we don't have to sum all Ss from 1 to 40, I tested that with an example here https://pastebin.com/TABBdB5C    \n",
        "S = Z.T.dot(Z)\n",
        "S_inverse = np.linalg.inv(S)\n",
        "S_inverse_B = S_inverse.dot(B)\n",
        "eigen_values, eigen_vectors = np.linalg.eig(S_inverse_B)\n"
      ],
      "execution_count": 45,
      "outputs": [
        {
          "output_type": "stream",
          "text": [
            "(40, 10304)\n"
          ],
          "name": "stdout"
        }
      ]
    },
    {
      "metadata": {
        "id": "rQhxu8gKzGzi",
        "colab_type": "text"
      },
      "cell_type": "markdown",
      "source": [
        "**Projection and classification and calculating accuracy**"
      ]
    },
    {
      "metadata": {
        "id": "NPvLvxItxZAp",
        "colab_type": "code",
        "colab": {
          "autoexec": {
            "startup": false,
            "wait_interval": 0
          },
          "output_extras": [
            {
              "item_id": 1
            }
          ],
          "base_uri": "https://localhost:8080/",
          "height": 34
        },
        "outputId": "0bfb9ea4-c5a8-472e-9ba2-cfade7413570",
        "executionInfo": {
          "status": "ok",
          "timestamp": 1519945517868,
          "user_tz": -120,
          "elapsed": 1519,
          "user": {
            "displayName": "Mostafa Ali Mansour",
            "photoUrl": "//lh3.googleusercontent.com/-lFV59LU62z0/AAAAAAAAAAI/AAAAAAAAAbE/5v9sieGvTUc/s50-c-k-no/photo.jpg",
            "userId": "109104812413497782932"
          }
        }
      },
      "cell_type": "code",
      "source": [
        "U = eigen_vectors[:,range(0,39)]\n",
        "assert U.shape == (10304, 39)\n",
        "project_trainning = Dtraining.dot(U)\n",
        "project_test = Dtest.dot(U)\n",
        "\n",
        "# importing necessary libraries\n",
        "from sklearn import datasets\n",
        "from sklearn.metrics import confusion_matrix\n",
        "from sklearn.model_selection import train_test_split\n",
        " \n",
        "# training a KNN classifier\n",
        "from sklearn.neighbors import KNeighborsClassifier\n",
        "knn = KNeighborsClassifier(n_neighbors = 1).fit(Dtraining, np.ravel(ytraining))\n",
        " \n",
        "# accuracy on Dtest\n",
        "accuracy = knn.score(Dtest, ytest)\n",
        "print (accuracy)"
      ],
      "execution_count": 51,
      "outputs": [
        {
          "output_type": "stream",
          "text": [
            "0.94\n"
          ],
          "name": "stdout"
        }
      ]
    }
  ]
}