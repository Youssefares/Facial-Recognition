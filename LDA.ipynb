{
  "nbformat": 4,
  "nbformat_minor": 0,
  "metadata": {
    "colab": {
      "name": "LDA.ipynb",
      "version": "0.3.2",
      "views": {},
      "default_view": {},
      "provenance": [],
      "collapsed_sections": []
    },
    "kernelspec": {
      "name": "python3",
      "display_name": "Python 3"
    }
  },
  "cells": [
    {
      "metadata": {
        "id": "86hV4PZs6hHT",
        "colab_type": "code",
        "colab": {
          "autoexec": {
            "startup": false,
            "wait_interval": 0
          },
          "output_extras": [
            {
              "item_id": 1
            }
          ],
          "base_uri": "https://localhost:8080/",
          "height": 34
        },
        "outputId": "294bc5ad-803e-4249-c013-3819d7fe430a",
        "executionInfo": {
          "status": "ok",
          "timestamp": 1519899846477,
          "user_tz": -120,
          "elapsed": 3489,
          "user": {
            "displayName": "Mostafa Ali Mansour",
            "photoUrl": "//lh3.googleusercontent.com/-lFV59LU62z0/AAAAAAAAAAI/AAAAAAAAAbE/5v9sieGvTUc/s50-c-k-no/photo.jpg",
            "userId": "109104812413497782932"
          }
        }
      },
      "cell_type": "code",
      "source": [
        "!pip install natsort"
      ],
      "execution_count": 2,
      "outputs": [
        {
          "output_type": "stream",
          "text": [
            "Requirement already satisfied: natsort in /usr/local/lib/python3.6/dist-packages\r\n"
          ],
          "name": "stdout"
        }
      ]
    },
    {
      "metadata": {
        "id": "s2lh6dX5NYER",
        "colab_type": "code",
        "colab": {
          "autoexec": {
            "startup": false,
            "wait_interval": 0
          }
        }
      },
      "cell_type": "code",
      "source": [
        "# HTTP\n",
        "from requests import get\n",
        "\n",
        "# OS and IO\n",
        "from io import BytesIO\n",
        "import os\n",
        "import shutil\n",
        "import glob\n",
        "from pathlib import Path\n",
        "\n",
        "# Unzipping\n",
        "from zipfile import ZipFile\n",
        "\n",
        "# Science and shi*\n",
        "import scipy\n",
        "import matplotlib.pyplot as plt\n",
        "import numpy as np\n",
        "\n",
        "# For sorting files\n",
        "from natsort import natsorted\n",
        "\n",
        "# Read files in order\n",
        "request = get('http://www.cl.cam.ac.uk/Research/DTG/attarchive/pub/data/att_faces.zip')\n",
        "zip_file = ZipFile(BytesIO(request.content))\n",
        "files = zip_file.namelist()\n",
        "files = natsorted(files)\n",
        "zip_file.extractall()\n",
        "\n",
        "# Images to training and test data matrices:\n",
        "y = np.arange(40).reshape(40, 1)\n",
        "ytest = y[1::2, ::]\n",
        "ytraining = y[0::2, ::]\n",
        "\n",
        "D = np.array(np.empty([0, 10304]))\n",
        "for f in files:\n",
        "    if f.endswith(\".pgm\"):\n",
        "        arr = scipy.misc.imread(f)\n",
        "        # The array is transposed because I checked its dimensions and they were 112X92\n",
        "        arr = arr.T\n",
        "        D = np.vstack((D, arr.flatten()))\n",
        "Dtest = D[1::2, ::]\n",
        "Dtraining = D[0::2, ::]\n",
        "\n",
        "\n",
        "# 200 training examples with 10304 feature/pixel\n",
        "assert Dtraining.shape == (200, 10304)\n",
        "\n",
        "# 200 test examples with 10304 feature/pixel\n",
        "assert Dtest.shape == (200, 10304)"
      ],
      "execution_count": 0,
      "outputs": []
    },
    {
      "metadata": {
        "id": "nl_V7DKeGm9v",
        "colab_type": "code",
        "colab": {
          "autoexec": {
            "startup": false,
            "wait_interval": 0
          },
          "output_extras": [
            {
              "item_id": 1
            }
          ],
          "base_uri": "https://localhost:8080/",
          "height": 85
        },
        "outputId": "be01fd75-65bc-4d98-f6c1-6cc2a77d77db",
        "executionInfo": {
          "status": "ok",
          "timestamp": 1519904526027,
          "user_tz": -120,
          "elapsed": 1441,
          "user": {
            "displayName": "Mostafa Ali Mansour",
            "photoUrl": "//lh3.googleusercontent.com/-lFV59LU62z0/AAAAAAAAAAI/AAAAAAAAAbE/5v9sieGvTUc/s50-c-k-no/photo.jpg",
            "userId": "109104812413497782932"
          }
        }
      },
      "cell_type": "code",
      "source": [
        "from sklearn.discriminant_analysis import LinearDiscriminantAnalysis as LDA\n",
        "from sklearn import datasets\n",
        "iris = datasets.load_iris()\n",
        "X = iris.data\n",
        "Y = iris.target\n",
        "clf = LDA()\n",
        "clf.fit(X, Y)\n",
        "# eigen vectors\n",
        "clf.scalings_\n",
        "#np.unique(iris.target)\n"
      ],
      "execution_count": 48,
      "outputs": [
        {
          "output_type": "execute_result",
          "data": {
            "text/plain": [
              "array([[ 0.81926852,  0.03285975],\n",
              "       [ 1.5478732 ,  2.15471106],\n",
              "       [-2.18494056, -0.93024679],\n",
              "       [-2.85385002,  2.8060046 ]])"
            ]
          },
          "metadata": {
            "tags": []
          },
          "execution_count": 48
        }
      ]
    },
    {
      "metadata": {
        "id": "9u0Jiz0wPWuZ",
        "colab_type": "code",
        "colab": {
          "autoexec": {
            "startup": false,
            "wait_interval": 0
          },
          "output_extras": [
            {
              "item_id": 1
            }
          ],
          "base_uri": "https://localhost:8080/",
          "height": 85
        },
        "outputId": "8116ccd2-88c9-4657-bab5-78297c942aac",
        "executionInfo": {
          "status": "ok",
          "timestamp": 1519908706033,
          "user_tz": -120,
          "elapsed": 851,
          "user": {
            "displayName": "Mostafa Ali Mansour",
            "photoUrl": "//lh3.googleusercontent.com/-lFV59LU62z0/AAAAAAAAAAI/AAAAAAAAAbE/5v9sieGvTUc/s50-c-k-no/photo.jpg",
            "userId": "109104812413497782932"
          }
        }
      },
      "cell_type": "code",
      "source": [
        "Xtest = X[1::2, ::]\n",
        "Xtraining = X[0::2, ::]\n",
        "Ytest = Y[1::2]\n",
        "Ytraining = Y[0::2]\n",
        "iris_means = np.array(np.empty([0, 4]))\n",
        "for i in range(0, 150, 50):\n",
        "    user = X[i:i+50:, ::]\n",
        "    iris_mean = np.mean(user, axis=0)\n",
        "    iris_means = np.vstack((iris_means, iris_mean))\n",
        "iris_mean_sample = np.mean(X, axis=0)\n",
        "\n",
        "iris_n = iris_means.shape[0]\n",
        "overall_mean = np.mean(X, axis=0)\n",
        "iris_B = np.zeros((4,4))\n",
        "for i in range(0, 3): \n",
        "    overall_mean = overall_mean.reshape(4,1) \n",
        "    mean_vec = iris_means[i].reshape(4,1)\n",
        "    iris_B += 50 * (mean_vec - overall_mean).dot((mean_vec - overall_mean).T)\n",
        "    i += 1\n",
        "iris_Z = np.array(np.empty([0, 4]))\n",
        "j = 0\n",
        "for i in range(0, 150, 50):\n",
        "    user = X[i:i+50:, ::]\n",
        "    iris_Z = np.vstack((iris_Z, user-iris_means[j].T))\n",
        "    j += 1\n",
        "    \n",
        "iris_S = iris_Z.T.dot(iris_Z)\n",
        "iris_S_inverse = np.linalg.inv(iris_S)\n",
        "iris_S_inverse_B = iris_S_inverse.dot(iris_B)\n",
        "eigen_values, eigen_vectors = np.linalg.eig(iris_S_inverse_B)\n",
        "print(eigen_vectors)\n"
      ],
      "execution_count": 102,
      "outputs": [
        {
          "output_type": "stream",
          "text": [
            "[[ 0.20490976 -0.00898234  0.68226001 -0.142006  ]\n",
            " [ 0.38714331 -0.58899857 -0.44093159  0.38002784]\n",
            " [-0.54648218  0.25428655 -0.46521433  0.44439255]\n",
            " [-0.71378517 -0.76703217  0.35167633 -0.7987042 ]]\n"
          ],
          "name": "stdout"
        }
      ]
    },
    {
      "metadata": {
        "id": "n1hsWZeIBOcq",
        "colab_type": "code",
        "colab": {
          "autoexec": {
            "startup": false,
            "wait_interval": 0
          },
          "output_extras": [
            {
              "item_id": 1
            }
          ],
          "base_uri": "https://localhost:8080/",
          "height": 34
        },
        "outputId": "0a499135-ec9d-4c8a-b515-6d1f62d89052",
        "executionInfo": {
          "status": "ok",
          "timestamp": 1519900209078,
          "user_tz": -120,
          "elapsed": 192873,
          "user": {
            "displayName": "Mostafa Ali Mansour",
            "photoUrl": "//lh3.googleusercontent.com/-lFV59LU62z0/AAAAAAAAAAI/AAAAAAAAAbE/5v9sieGvTUc/s50-c-k-no/photo.jpg",
            "userId": "109104812413497782932"
          }
        }
      },
      "cell_type": "code",
      "source": [
        "means = np.array(np.empty([0, 10304]))\n",
        "for i in range(0, 200, 5):\n",
        "    user = Dtraining[i:i+5:, ::]\n",
        "    mean = np.mean(user, axis=0)\n",
        "    means = np.vstack((means, mean))\n",
        "    \n",
        "mean_sample = Dtraining.mean()\n",
        "print(means.shape)\n",
        "n = means.shape[0]\n",
        "#Because python returns mean vector as row not column vector, therefore we reversed the equation\n",
        "\n",
        "Z = np.array(np.empty([0, 10304]))\n",
        "j = 0\n",
        "for i in range(0, 200, 5):\n",
        "    user = Dtraining[i:i+5:, ::]\n",
        "    Z = np.vstack((Z, user-means[j].T))\n",
        "    j += 1\n",
        "\n",
        "#This is S, we don't have to sum all Ss from 1 to 40, I tested that with an example here https://pastebin.com/TABBdB5C    \n",
        "S = Z.T.dot(Z)\n",
        "S_inverse = np.linalg.inv(S)\n",
        "S_inverse_B = S_inverse.dot(B)\n"
      ],
      "execution_count": 4,
      "outputs": [
        {
          "output_type": "stream",
          "text": [
            "(40, 10304)\n"
          ],
          "name": "stdout"
        }
      ]
    },
    {
      "metadata": {
        "id": "07KbRht3HUwL",
        "colab_type": "code",
        "colab": {
          "autoexec": {
            "startup": false,
            "wait_interval": 0
          }
        }
      },
      "cell_type": "code",
      "source": [
        "#U, S, V = np.linalg.svd(S_inverse_B)\n",
        "#eigen_values, eigen_vectors = np.square(S), V.T\n",
        "eigen_values, eigen_vectors = np.linalg.eig(S_inverse_B)\n",
        "#assert eigen_vectors.shape == (10304, 10304)\n",
        "U = eigen_vectors[:, (0, 39)]\n",
        "print(U.shape)\n",
        "\n",
        "#project_trainning = Dtrainning.dot(U)\n",
        "#project_test = Dtest.dot(U)"
      ],
      "execution_count": 0,
      "outputs": []
    }
  ]
}