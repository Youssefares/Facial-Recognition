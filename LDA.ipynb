{
  "nbformat": 4,
  "nbformat_minor": 0,
  "metadata": {
    "colab": {
      "name": "LDA.ipynb",
      "version": "0.3.2",
      "views": {},
      "default_view": {},
      "provenance": [],
      "collapsed_sections": []
    },
    "kernelspec": {
      "name": "python3",
      "display_name": "Python 3"
    }
  },
  "cells": [
    {
      "metadata": {
        "id": "s2lh6dX5NYER",
        "colab_type": "code",
        "colab": {
          "autoexec": {
            "startup": false,
            "wait_interval": 0
          }
        }
      },
      "cell_type": "code",
      "source": [
        "# HTTP\n",
        "from requests import get\n",
        "\n",
        "# OS and IO\n",
        "from io import BytesIO\n",
        "import os\n",
        "import shutil\n",
        "import glob\n",
        "from pathlib import Path\n",
        "\n",
        "# Unzipping\n",
        "from zipfile import ZipFile\n",
        "\n",
        "# Actual thing\n",
        "import scipy\n",
        "import matplotlib.pyplot as plt\n",
        "\n",
        "# For sorting files\n",
        "from natsort import natsorted\n",
        "\n",
        "# Numpy\n",
        "import numpy as np\n",
        "\n",
        "request = get('http://www.cl.cam.ac.uk/Research/DTG/attarchive/pub/data/att_faces.zip')\n",
        "zip_file = ZipFile(BytesIO(request.content))\n",
        "files = zip_file.namelist()\n",
        "files = natsorted(files)\n",
        "zip_file.extractall()\n",
        "\n",
        "dir_path = os.getcwd()\n",
        "\n",
        "#pathlist = Path(dir_path).glob('**/*.pgm')\n",
        "#for path in pathlist:\n",
        " #   path_in_str = str(path)\n",
        "  #  print(path_in_str)\n",
        "\n",
        "# BUGGYYY\n",
        "#images = [path for path in pathlist]\n",
        "#images = sorted(images, key=lambda x: str(x))\n",
        "\n",
        "#print(images)\n",
        "\n",
        "# Reading the first file in the zip file:\n",
        "#zip_file.read(files[0])\n",
        "# sorted_files = sorted(files)\n",
        "\n",
        "# Because the matrix is at first empty, we append the first instance, afterwards we push the images vertically, I think we can do it in a cleaner way but i'm a bit lazy now\n",
        "# The array is transposed because I checked its dimensions and they were 112X92\n",
        "flag = 0\n",
        "y = np.arange(40).reshape(40, 1)\n",
        "ytest = y[1::2, ::]\n",
        "ytrainning = y[0::2, ::]\n",
        "D = np.array([[]])\n",
        "for f in files:\n",
        "    if f.endswith(\".pgm\"):\n",
        "        arr = scipy.misc.imread(f)\n",
        "        arr = arr.T\n",
        "        if flag == 0:\n",
        "            D = np.append(D,arr.flatten())\n",
        "            flag = 1\n",
        "        else:\n",
        "            D = np.vstack((D, arr.flatten()))\n",
        "Dtest = np.copy(D[1::2, ::])\n",
        "Dtrainning = D[0::2, ::]\n",
        "\n"
      ],
      "execution_count": 0,
      "outputs": []
    },
    {
      "metadata": {
        "id": "q6ftoC2VNo0y",
        "colab_type": "code",
        "colab": {
          "autoexec": {
            "startup": false,
            "wait_interval": 0
          },
          "output_extras": [
            {
              "item_id": 1
            }
          ],
          "base_uri": "https://localhost:8080/",
          "height": 34
        },
        "outputId": "5c8880ad-4bc9-417d-af8b-cb6675eb91a3",
        "executionInfo": {
          "status": "ok",
          "timestamp": 1519504427491,
          "user_tz": -120,
          "elapsed": 965,
          "user": {
            "displayName": "Mostafa Ali Mansour",
            "photoUrl": "//lh3.googleusercontent.com/-lFV59LU62z0/AAAAAAAAAAI/AAAAAAAAAbE/5v9sieGvTUc/s50-c-k-no/photo.jpg",
            "userId": "109104812413497782932"
          }
        }
      },
      "cell_type": "code",
      "source": [
        "means = np.array(np.empty([0, 10304]))\n",
        "j = 0\n",
        "for i in range(0, 400, 10):\n",
        "    user = D[i:i+10:, ::]\n",
        "    means = np.vstack((means, np.mean(user, axis=0)))"
      ],
      "execution_count": 44,
      "outputs": [
        {
          "output_type": "stream",
          "text": [
            "[47.8 47.2 52.1 ... 49.5 49.2 49. ]\n"
          ],
          "name": "stdout"
        }
      ]
    }
  ]
}