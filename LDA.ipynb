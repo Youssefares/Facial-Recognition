{
  "nbformat": 4,
  "nbformat_minor": 0,
  "metadata": {
    "colab": {
      "name": "LDA.ipynb",
      "version": "0.3.2",
      "views": {},
      "default_view": {},
      "provenance": [],
      "collapsed_sections": []
    },
    "kernelspec": {
      "name": "python3",
      "display_name": "Python 3"
    },
    "accelerator": "GPU"
  },
  "cells": [
    {
      "metadata": {
        "id": "s2lh6dX5NYER",
        "colab_type": "code",
        "colab": {
          "autoexec": {
            "startup": false,
            "wait_interval": 0
          },
          "output_extras": [
            {
              "item_id": 1
            }
          ],
          "base_uri": "https://localhost:8080/",
          "height": 34
        },
        "outputId": "cfdc384d-bb3b-4abc-946e-b0f003ce8fce"
      },
      "cell_type": "code",
      "source": [
        "# HTTP\n",
        "from requests import get\n",
        "\n",
        "# OS and IO\n",
        "from io import BytesIO\n",
        "import os\n",
        "import shutil\n",
        "import glob\n",
        "from pathlib import Path\n",
        "\n",
        "# Unzipping\n",
        "from zipfile import ZipFile\n",
        "\n",
        "# Actual thing\n",
        "import scipy\n",
        "import matplotlib.pyplot as plt\n",
        "\n",
        "# For sorting files\n",
        "from natsort import natsorted\n",
        "\n",
        "# Numpy\n",
        "import numpy as np\n",
        "\n",
        "request = get('http://www.cl.cam.ac.uk/Research/DTG/attarchive/pub/data/att_faces.zip')\n",
        "zip_file = ZipFile(BytesIO(request.content))\n",
        "files = zip_file.namelist()\n",
        "files = natsorted(files)\n",
        "zip_file.extractall()\n",
        "\n",
        "dir_path = os.getcwd()\n",
        "\n",
        "#pathlist = Path(dir_path).glob('**/*.pgm')\n",
        "#for path in pathlist:\n",
        " #   path_in_str = str(path)\n",
        "  #  print(path_in_str)\n",
        "\n",
        "# BUGGYYY\n",
        "#images = [path for path in pathlist]\n",
        "#images = sorted(images, key=lambda x: str(x))\n",
        "\n",
        "#print(images)\n",
        "\n",
        "# Reading the first file in the zip file:\n",
        "#zip_file.read(files[0])\n",
        "# sorted_files = sorted(files)\n",
        "\n",
        "# Because the matrix is at first empty, we append the first instance, afterwards we push the images vertically, I think we can do it in a cleaner way but i'm a bit lazy now\n",
        "# The array is transposed because I checked its dimensions and they were 112X92\n",
        "y = np.arange(40).reshape(40, 1)\n",
        "ytest = y[1::2, ::]\n",
        "ytrainning = y[0::2, ::]\n",
        "D = np.array(np.empty([0, 10304]))\n",
        "for f in files:\n",
        "    if f.endswith(\".pgm\"):\n",
        "        arr = scipy.misc.imread(f)\n",
        "        arr = arr.T\n",
        "        D = np.vstack((D, arr.flatten()))\n",
        "Dtest = np.copy(D[1::2, ::])\n",
        "Dtrainning = D[0::2, ::]\n",
        "#print(D.shape)\n",
        "\n",
        "means = np.array(np.empty([0, 10304]))\n",
        "for i in range(0, 200, 5):\n",
        "    user = Dtrainning[i:i+5:, ::]\n",
        "    mean = np.mean(user, axis=0)\n",
        "    means = np.vstack((means, mean))\n",
        "print(user.shape)\n",
        "    \n",
        "mean_sample = Dtrainning.mean()\n",
        "#print(means.shape)\n",
        "n = means.shape[0]\n",
        "#Because python returns mean vector as row not column vector, therefore we reversed the equation\n",
        "B = n * ((means - mean_sample).T.dot((means - mean_sample)))\n",
        "Z = np.array(np.empty([0, 10304]))\n",
        "j = 0\n",
        "for i in range(0, 200, 5):\n",
        "    user = Dtrainning[i:i+5:, ::]\n",
        "    Z = np.vstack((Z, user-means[j].T))\n",
        "    j += 1\n",
        "\n",
        "#This is S, we don't have to sum all Ss from 1 to 40, I tested that with an example here https://pastebin.com/TABBdB5C    \n",
        "S = Z.T.dot(Z)\n",
        "S_inverse = np.linalg.inv(S)\n",
        "S_inverse_B = S_inverse.dot(B)\n",
        "\n",
        "eigen_values, eigen_vectors = np.linalg.eig(S_inverse_B)\n",
        "U = eigen_vectors[(0, 39), :]\n",
        "\n",
        "project_trainning = U.T.dot(Dtrainning)\n",
        "\n",
        "\n",
        "\n"
      ],
      "execution_count": 0,
      "outputs": [
        {
          "output_type": "stream",
          "text": [
            "(5, 10304)\n"
          ],
          "name": "stdout"
        }
      ]
    }
  ]
}